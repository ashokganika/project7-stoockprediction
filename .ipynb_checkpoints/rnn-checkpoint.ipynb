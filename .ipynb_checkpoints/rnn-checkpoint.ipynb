{
 "cells": [
  {
   "cell_type": "code",
   "execution_count": 61,
   "metadata": {},
   "outputs": [],
   "source": [
    "import numpy as np\n",
    "import matplotlib.pyplot as plt\n",
    "import pandas as pd"
   ]
  },
  {
   "cell_type": "code",
   "execution_count": 62,
   "metadata": {},
   "outputs": [],
   "source": [
    "\n",
    "# Importing the training set\n",
    "dataset_train = pd.read_csv('AAPL.csv')\n",
    "training_set = dataset_train.iloc[:1732, 1:2].values"
   ]
  },
  {
   "cell_type": "code",
   "execution_count": 63,
   "metadata": {},
   "outputs": [],
   "source": [
    "# Feature Scaling\n",
    "from sklearn.preprocessing import MinMaxScaler\n",
    "sc = MinMaxScaler(feature_range = (0, 1))\n",
    "training_set_scaled = sc.fit_transform(training_set)"
   ]
  },
  {
   "cell_type": "code",
   "execution_count": 64,
   "metadata": {},
   "outputs": [
    {
     "data": {
      "text/html": [
       "<div>\n",
       "<style scoped>\n",
       "    .dataframe tbody tr th:only-of-type {\n",
       "        vertical-align: middle;\n",
       "    }\n",
       "\n",
       "    .dataframe tbody tr th {\n",
       "        vertical-align: top;\n",
       "    }\n",
       "\n",
       "    .dataframe thead th {\n",
       "        text-align: right;\n",
       "    }\n",
       "</style>\n",
       "<table border=\"1\" class=\"dataframe\">\n",
       "  <thead>\n",
       "    <tr style=\"text-align: right;\">\n",
       "      <th></th>\n",
       "      <th>Date</th>\n",
       "      <th>Open</th>\n",
       "      <th>High</th>\n",
       "      <th>Low</th>\n",
       "      <th>Close</th>\n",
       "      <th>Adj Close</th>\n",
       "      <th>Volume</th>\n",
       "    </tr>\n",
       "  </thead>\n",
       "  <tbody>\n",
       "    <tr>\n",
       "      <th>0</th>\n",
       "      <td>2014-01-02</td>\n",
       "      <td>19.845715</td>\n",
       "      <td>19.893929</td>\n",
       "      <td>19.715000</td>\n",
       "      <td>19.754642</td>\n",
       "      <td>17.624588</td>\n",
       "      <td>234684800</td>\n",
       "    </tr>\n",
       "    <tr>\n",
       "      <th>1</th>\n",
       "      <td>2014-01-03</td>\n",
       "      <td>19.745001</td>\n",
       "      <td>19.775000</td>\n",
       "      <td>19.301071</td>\n",
       "      <td>19.320715</td>\n",
       "      <td>17.237453</td>\n",
       "      <td>392467600</td>\n",
       "    </tr>\n",
       "    <tr>\n",
       "      <th>2</th>\n",
       "      <td>2014-01-06</td>\n",
       "      <td>19.194643</td>\n",
       "      <td>19.528572</td>\n",
       "      <td>19.057142</td>\n",
       "      <td>19.426071</td>\n",
       "      <td>17.331453</td>\n",
       "      <td>412610800</td>\n",
       "    </tr>\n",
       "    <tr>\n",
       "      <th>3</th>\n",
       "      <td>2014-01-07</td>\n",
       "      <td>19.440001</td>\n",
       "      <td>19.498571</td>\n",
       "      <td>19.211428</td>\n",
       "      <td>19.287144</td>\n",
       "      <td>17.207499</td>\n",
       "      <td>317209200</td>\n",
       "    </tr>\n",
       "    <tr>\n",
       "      <th>4</th>\n",
       "      <td>2014-01-08</td>\n",
       "      <td>19.243214</td>\n",
       "      <td>19.484285</td>\n",
       "      <td>19.238928</td>\n",
       "      <td>19.409286</td>\n",
       "      <td>17.316479</td>\n",
       "      <td>258529600</td>\n",
       "    </tr>\n",
       "    <tr>\n",
       "      <th>...</th>\n",
       "      <td>...</td>\n",
       "      <td>...</td>\n",
       "      <td>...</td>\n",
       "      <td>...</td>\n",
       "      <td>...</td>\n",
       "      <td>...</td>\n",
       "      <td>...</td>\n",
       "    </tr>\n",
       "    <tr>\n",
       "      <th>1757</th>\n",
       "      <td>2020-12-23</td>\n",
       "      <td>132.160004</td>\n",
       "      <td>132.429993</td>\n",
       "      <td>130.779999</td>\n",
       "      <td>130.960007</td>\n",
       "      <td>130.960007</td>\n",
       "      <td>88223700</td>\n",
       "    </tr>\n",
       "    <tr>\n",
       "      <th>1758</th>\n",
       "      <td>2020-12-24</td>\n",
       "      <td>131.320007</td>\n",
       "      <td>133.460007</td>\n",
       "      <td>131.100006</td>\n",
       "      <td>131.970001</td>\n",
       "      <td>131.970001</td>\n",
       "      <td>54930100</td>\n",
       "    </tr>\n",
       "    <tr>\n",
       "      <th>1759</th>\n",
       "      <td>2020-12-28</td>\n",
       "      <td>133.990005</td>\n",
       "      <td>137.339996</td>\n",
       "      <td>133.509995</td>\n",
       "      <td>136.690002</td>\n",
       "      <td>136.690002</td>\n",
       "      <td>124486200</td>\n",
       "    </tr>\n",
       "    <tr>\n",
       "      <th>1760</th>\n",
       "      <td>2020-12-29</td>\n",
       "      <td>138.050003</td>\n",
       "      <td>138.789993</td>\n",
       "      <td>134.339996</td>\n",
       "      <td>134.869995</td>\n",
       "      <td>134.869995</td>\n",
       "      <td>121047300</td>\n",
       "    </tr>\n",
       "    <tr>\n",
       "      <th>1761</th>\n",
       "      <td>2020-12-30</td>\n",
       "      <td>135.580002</td>\n",
       "      <td>135.990005</td>\n",
       "      <td>133.399994</td>\n",
       "      <td>133.720001</td>\n",
       "      <td>133.720001</td>\n",
       "      <td>96292700</td>\n",
       "    </tr>\n",
       "  </tbody>\n",
       "</table>\n",
       "<p>1762 rows × 7 columns</p>\n",
       "</div>"
      ],
      "text/plain": [
       "            Date        Open        High         Low       Close   Adj Close  \\\n",
       "0     2014-01-02   19.845715   19.893929   19.715000   19.754642   17.624588   \n",
       "1     2014-01-03   19.745001   19.775000   19.301071   19.320715   17.237453   \n",
       "2     2014-01-06   19.194643   19.528572   19.057142   19.426071   17.331453   \n",
       "3     2014-01-07   19.440001   19.498571   19.211428   19.287144   17.207499   \n",
       "4     2014-01-08   19.243214   19.484285   19.238928   19.409286   17.316479   \n",
       "...          ...         ...         ...         ...         ...         ...   \n",
       "1757  2020-12-23  132.160004  132.429993  130.779999  130.960007  130.960007   \n",
       "1758  2020-12-24  131.320007  133.460007  131.100006  131.970001  131.970001   \n",
       "1759  2020-12-28  133.990005  137.339996  133.509995  136.690002  136.690002   \n",
       "1760  2020-12-29  138.050003  138.789993  134.339996  134.869995  134.869995   \n",
       "1761  2020-12-30  135.580002  135.990005  133.399994  133.720001  133.720001   \n",
       "\n",
       "         Volume  \n",
       "0     234684800  \n",
       "1     392467600  \n",
       "2     412610800  \n",
       "3     317209200  \n",
       "4     258529600  \n",
       "...         ...  \n",
       "1757   88223700  \n",
       "1758   54930100  \n",
       "1759  124486200  \n",
       "1760  121047300  \n",
       "1761   96292700  \n",
       "\n",
       "[1762 rows x 7 columns]"
      ]
     },
     "execution_count": 64,
     "metadata": {},
     "output_type": "execute_result"
    }
   ],
   "source": [
    "dataset_train"
   ]
  },
  {
   "cell_type": "code",
   "execution_count": 65,
   "metadata": {},
   "outputs": [],
   "source": [
    "# Creating a data structure with 60 timesteps and 1 output\n",
    "X_train = []\n",
    "y_train = []\n",
    "for i in range(60, 1731):\n",
    "    X_train.append(training_set_scaled[i-60:i, 0])\n",
    "    y_train.append(training_set_scaled[i, 0])\n",
    "X_train, y_train = np.array(X_train), np.array(y_train)"
   ]
  },
  {
   "cell_type": "code",
   "execution_count": 17,
   "metadata": {},
   "outputs": [
    {
     "data": {
      "text/plain": [
       "(array([[0.01795136, 0.01711463, 0.01254222, ..., 0.01523344, 0.01330477,\n",
       "         0.01280036],\n",
       "        [0.01711463, 0.01254222, 0.01458067, ..., 0.01330477, 0.01280036,\n",
       "         0.01307038],\n",
       "        [0.01254222, 0.01458067, 0.01294575, ..., 0.01280036, 0.01307038,\n",
       "         0.0126342 ],\n",
       "        ...,\n",
       "        [0.83043241, 0.79096911, 0.79944337, ..., 0.94649606, 0.95106552,\n",
       "         0.94408677],\n",
       "        [0.79096911, 0.79944337, 0.81431475, ..., 0.95106552, 0.94408677,\n",
       "         0.96626928],\n",
       "        [0.79944337, 0.81431475, 0.80534209, ..., 0.94408677, 0.96626928,\n",
       "         1.        ]]),\n",
       " array([0.01307038, 0.0126342 , 0.01400503, ..., 0.96626928, 1.        ,\n",
       "        0.97947908]))"
      ]
     },
     "execution_count": 17,
     "metadata": {},
     "output_type": "execute_result"
    }
   ],
   "source": [
    "X_train, y_train"
   ]
  },
  {
   "cell_type": "code",
   "execution_count": 66,
   "metadata": {},
   "outputs": [],
   "source": [
    "\n",
    "# Reshaping\n",
    "X_train = np.reshape(X_train, (X_train.shape[0], X_train.shape[1], 1))"
   ]
  },
  {
   "cell_type": "code",
   "execution_count": 67,
   "metadata": {},
   "outputs": [],
   "source": [
    "# Part 2 - Building the RNN\n",
    "\n",
    "# Importing the Keras libraries and packages\n",
    "\n",
    "from keras.models import Sequential\n",
    "from keras.layers import Dense\n",
    "from keras.layers import LSTM\n",
    "from keras.layers import Dropout"
   ]
  },
  {
   "cell_type": "code",
   "execution_count": 75,
   "metadata": {},
   "outputs": [
    {
     "name": "stdout",
     "output_type": "stream",
     "text": [
      "Epoch 1/10\n",
      "53/53 [==============================] - 16s 302ms/step - loss: 0.0106 - accuracy: 0.0000e+00\n",
      "Epoch 2/10\n",
      "53/53 [==============================] - 16s 297ms/step - loss: 0.0021 - accuracy: 5.9844e-04\n",
      "Epoch 3/10\n",
      "53/53 [==============================] - 15s 276ms/step - loss: 0.0019 - accuracy: 5.9844e-04\n",
      "Epoch 4/10\n",
      "53/53 [==============================] - 17s 323ms/step - loss: 0.0019 - accuracy: 5.9844e-04\n",
      "Epoch 5/10\n",
      "53/53 [==============================] - 17s 316ms/step - loss: 0.0017 - accuracy: 5.9844e-04\n",
      "Epoch 6/10\n",
      "53/53 [==============================] - 15s 287ms/step - loss: 0.0019 - accuracy: 5.9844e-04\n",
      "Epoch 7/10\n",
      "53/53 [==============================] - 16s 294ms/step - loss: 0.0014 - accuracy: 5.9844e-04\n",
      "Epoch 8/10\n",
      "53/53 [==============================] - 17s 317ms/step - loss: 0.0016 - accuracy: 5.9844e-04\n",
      "Epoch 9/10\n",
      "53/53 [==============================] - 15s 284ms/step - loss: 0.0014 - accuracy: 5.9844e-04\n",
      "Epoch 10/10\n",
      "53/53 [==============================] - 15s 277ms/step - loss: 0.0012 - accuracy: 5.9844e-04\n"
     ]
    },
    {
     "data": {
      "text/plain": [
       "<tensorflow.python.keras.callbacks.History at 0x7ff2b2694ac0>"
      ]
     },
     "execution_count": 75,
     "metadata": {},
     "output_type": "execute_result"
    }
   ],
   "source": [
    "# Initialising the RNN\n",
    "regressor = Sequential()\n",
    "\n",
    "# Adding the first LSTM layer and some Dropout regularisation\n",
    "regressor.add(LSTM(units = 50, return_sequences = True, input_shape = (X_train.shape[1], 1)))\n",
    "regressor.add(Dropout(0.2))\n",
    "\n",
    "# Adding a second LSTM layer and some Dropout regularisation\n",
    "regressor.add(LSTM(units = 50, return_sequences = True))\n",
    "regressor.add(Dropout(0.2))\n",
    "\n",
    "# Adding a third LSTM layer and some Dropout regularisation\n",
    "regressor.add(LSTM(units = 50, return_sequences = True))\n",
    "regressor.add(Dropout(0.2))\n",
    "\n",
    "# Adding a fourth LSTM layer and some Dropout regularisation\n",
    "regressor.add(LSTM(units = 50))\n",
    "regressor.add(Dropout(0.2))\n",
    "\n",
    "# Adding the output layer\n",
    "regressor.add(Dense(units = 1))\n",
    "\n",
    "# Compiling the RNN\n",
    "regressor.compile(optimizer = 'adam', loss = 'mean_squared_error',metrics=['accuracy'])\n",
    "\n",
    "# Fitting the RNN to the Training set\n",
    "regressor.fit(X_train, y_train, epochs = 10, batch_size = 32)\n"
   ]
  },
  {
   "cell_type": "code",
   "execution_count": 76,
   "metadata": {},
   "outputs": [],
   "source": [
    "\n",
    "# Part 3 - Making the predictions and visualising the results\n",
    "\n",
    "# Getting the real stock price of 2017\n",
    "dataset_test = pd.read_csv('AAPL.csv')\n",
    "real_stock_price = dataset_test.iloc[1732:, 1:2].values\n",
    "\n",
    "\n",
    "# Getting the predicted stock price \n",
    "dataset_total = pd.concat((dataset_train['Open'], dataset_test['Open']), axis = 0)\n",
    "inputs = dataset_total[len(dataset_total) - len(real_stock_price) - 60:].values\n",
    "inputs = inputs.reshape(-1,1)\n",
    "inputs = sc.transform(inputs)\n",
    "X_test = []\n",
    "for i in range(60, 90):\n",
    "    X_test.append(inputs[i-60:i, 0])\n",
    "X_test = np.array(X_test)\n",
    "X_test = np.reshape(X_test, (X_test.shape[0], X_test.shape[1], 1))\n"
   ]
  },
  {
   "cell_type": "code",
   "execution_count": 77,
   "metadata": {},
   "outputs": [
    {
     "data": {
      "text/plain": [
       "array([[114.02002 , 114.28636 , 114.607086, 114.95315 , 115.30283 ,\n",
       "        115.63269 , 115.909546, 116.11518 , 116.24629 , 116.31001 ,\n",
       "        116.33663 , 116.36163 , 116.421165, 116.536644, 116.715744,\n",
       "        116.96481 , 117.28279 , 117.64304 , 118.02374 , 118.40554 ,\n",
       "        118.780624, 119.158195, 119.55462 , 119.9818  , 120.42595 ,\n",
       "        120.8976  , 121.4066  , 121.95234 , 122.53923 , 123.18372 ]],\n",
       "      dtype=float32)"
      ]
     },
     "execution_count": 77,
     "metadata": {},
     "output_type": "execute_result"
    }
   ],
   "source": [
    "predicted_stock_price = regressor.predict(X_test)\n",
    "predicted_stock_price = sc.inverse_transform(predicted_stock_price)\n",
    "\n",
    "y_true = np.reshape(real_stock_price, (1,np.product(real_stock_price.shape)))\n",
    "\n",
    "y_pred = np.reshape(predicted_stock_price, (1,np.product(predicted_stock_price.shape)))\n",
    "'''\n",
    "from sklearn.metrics import classification_report\n",
    "from sklearn.metrics import accuracy_score\n",
    "print(classification_report(y_true[0],y_pred[0]))\n",
    "print(accuracy_score(y_true[0], y_pred[0]))\n",
    "'''\n",
    "# from sklearn.metrics import mean_squared_error\n",
    "# print(mean_squared_error(y_true, y_pred))\n",
    "y_true\n",
    "y_pred"
   ]
  },
  {
   "cell_type": "code",
   "execution_count": 78,
   "metadata": {},
   "outputs": [
    {
     "data": {
      "image/png": "[encoded data removed]",
      "text/plain": [
       "<Figure size 432x288 with 1 Axes>"
      ]
     },
     "metadata": {
      "needs_background": "light"
     },
     "output_type": "display_data"
    }
   ],
   "source": [
    "# Visualising the results\n",
    "plt.plot(real_stock_price, color = 'red', label = 'Real Apple Stock Price')\n",
    "x_data = predicted_stock_price[60:60+len(predicted_stock_price)]\n",
    "plt.plot(predicted_stock_price, color = 'blue', label = 'Predicted Apple Stock Price')\n",
    "plt.title('Apple Stock Price Prediction')\n",
    "plt.xlabel('Time')\n",
    "plt.ylabel('Apple Stock Price')\n",
    "plt.legend()\n",
    "plt.show()"
   ]
  },
  {
   "cell_type": "code",
   "execution_count": null,
   "metadata": {},
   "outputs": [],
   "source": []
  }
 ],
 "metadata": {
  "kernelspec": {
   "display_name": "Python 3",
   "language": "python",
   "name": "python3"
  },
  "language_info": {
   "codemirror_mode": {
    "name": "ipython",
    "version": 3
   },
   "file_extension": ".py",
   "mimetype": "text/x-python",
   "name": "python",
   "nbconvert_exporter": "python",
   "pygments_lexer": "ipython3",
   "version": "3.8.5"
  }
 },
 "nbformat": 4,
 "nbformat_minor": 4
}
