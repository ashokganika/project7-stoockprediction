{
 "cells": [
  {
   "cell_type": "code",
   "execution_count": 37,
   "metadata": {},
   "outputs": [],
   "source": [
    "import pandas as pd\n",
    "import numpy as np\n",
    "import yfinance as yf\n",
    "from datetime import datetime\n",
    "import datetime as dt"
   ]
  },
  {
   "cell_type": "code",
   "execution_count": 38,
   "metadata": {},
   "outputs": [
    {
     "name": "stdout",
     "output_type": "stream",
     "text": [
      "[*********************100%***********************]  1 of 1 completed\n"
     ]
    }
   ],
   "source": [
    "end = datetime.now()\n",
    "start = datetime(end.year-5,end.month,end.day)\n",
    "data = yf.download('aapl', start=start, end=end)\n",
    "df = pd.DataFrame(data=data)\n",
    "df.to_csv(''+'aapl'+'.csv')    "
   ]
  },
  {
   "cell_type": "code",
   "execution_count": 39,
   "metadata": {},
   "outputs": [
    {
     "data": {
      "text/html": [
       "<div>\n",
       "<style scoped>\n",
       "    .dataframe tbody tr th:only-of-type {\n",
       "        vertical-align: middle;\n",
       "    }\n",
       "\n",
       "    .dataframe tbody tr th {\n",
       "        vertical-align: top;\n",
       "    }\n",
       "\n",
       "    .dataframe thead th {\n",
       "        text-align: right;\n",
       "    }\n",
       "</style>\n",
       "<table border=\"1\" class=\"dataframe\">\n",
       "  <thead>\n",
       "    <tr style=\"text-align: right;\">\n",
       "      <th></th>\n",
       "      <th>Date</th>\n",
       "      <th>Open</th>\n",
       "      <th>High</th>\n",
       "      <th>Low</th>\n",
       "      <th>Close</th>\n",
       "      <th>Adj Close</th>\n",
       "      <th>Volume</th>\n",
       "    </tr>\n",
       "  </thead>\n",
       "  <tbody>\n",
       "    <tr>\n",
       "      <th>0</th>\n",
       "      <td>2016-02-01</td>\n",
       "      <td>24.117500</td>\n",
       "      <td>24.177500</td>\n",
       "      <td>23.850000</td>\n",
       "      <td>24.107500</td>\n",
       "      <td>22.334911</td>\n",
       "      <td>163774000</td>\n",
       "    </tr>\n",
       "    <tr>\n",
       "      <th>1</th>\n",
       "      <td>2016-02-02</td>\n",
       "      <td>23.855000</td>\n",
       "      <td>24.010000</td>\n",
       "      <td>23.570000</td>\n",
       "      <td>23.620001</td>\n",
       "      <td>21.883259</td>\n",
       "      <td>149428800</td>\n",
       "    </tr>\n",
       "    <tr>\n",
       "      <th>2</th>\n",
       "      <td>2016-02-03</td>\n",
       "      <td>23.750000</td>\n",
       "      <td>24.209999</td>\n",
       "      <td>23.520000</td>\n",
       "      <td>24.087500</td>\n",
       "      <td>22.316381</td>\n",
       "      <td>183857200</td>\n",
       "    </tr>\n",
       "    <tr>\n",
       "      <th>3</th>\n",
       "      <td>2016-02-04</td>\n",
       "      <td>23.965000</td>\n",
       "      <td>24.332500</td>\n",
       "      <td>23.797501</td>\n",
       "      <td>24.150000</td>\n",
       "      <td>22.495693</td>\n",
       "      <td>185886800</td>\n",
       "    </tr>\n",
       "    <tr>\n",
       "      <th>4</th>\n",
       "      <td>2016-02-05</td>\n",
       "      <td>24.129999</td>\n",
       "      <td>24.230000</td>\n",
       "      <td>23.422501</td>\n",
       "      <td>23.504999</td>\n",
       "      <td>21.894878</td>\n",
       "      <td>185672400</td>\n",
       "    </tr>\n",
       "    <tr>\n",
       "      <th>...</th>\n",
       "      <td>...</td>\n",
       "      <td>...</td>\n",
       "      <td>...</td>\n",
       "      <td>...</td>\n",
       "      <td>...</td>\n",
       "      <td>...</td>\n",
       "      <td>...</td>\n",
       "    </tr>\n",
       "    <tr>\n",
       "      <th>1254</th>\n",
       "      <td>2021-01-25</td>\n",
       "      <td>143.070007</td>\n",
       "      <td>145.089996</td>\n",
       "      <td>136.539993</td>\n",
       "      <td>142.919998</td>\n",
       "      <td>142.919998</td>\n",
       "      <td>157611700</td>\n",
       "    </tr>\n",
       "    <tr>\n",
       "      <th>1255</th>\n",
       "      <td>2021-01-26</td>\n",
       "      <td>143.600006</td>\n",
       "      <td>144.300003</td>\n",
       "      <td>141.369995</td>\n",
       "      <td>143.160004</td>\n",
       "      <td>143.160004</td>\n",
       "      <td>98390600</td>\n",
       "    </tr>\n",
       "    <tr>\n",
       "      <th>1256</th>\n",
       "      <td>2021-01-27</td>\n",
       "      <td>143.429993</td>\n",
       "      <td>144.300003</td>\n",
       "      <td>140.410004</td>\n",
       "      <td>142.059998</td>\n",
       "      <td>142.059998</td>\n",
       "      <td>140843800</td>\n",
       "    </tr>\n",
       "    <tr>\n",
       "      <th>1257</th>\n",
       "      <td>2021-01-28</td>\n",
       "      <td>139.520004</td>\n",
       "      <td>141.990005</td>\n",
       "      <td>136.699997</td>\n",
       "      <td>137.089996</td>\n",
       "      <td>137.089996</td>\n",
       "      <td>142621100</td>\n",
       "    </tr>\n",
       "    <tr>\n",
       "      <th>1258</th>\n",
       "      <td>2021-01-29</td>\n",
       "      <td>135.830002</td>\n",
       "      <td>136.740005</td>\n",
       "      <td>130.210007</td>\n",
       "      <td>131.960007</td>\n",
       "      <td>131.960007</td>\n",
       "      <td>177180600</td>\n",
       "    </tr>\n",
       "  </tbody>\n",
       "</table>\n",
       "<p>1259 rows × 7 columns</p>\n",
       "</div>"
      ],
      "text/plain": [
       "            Date        Open        High         Low       Close   Adj Close  \\\n",
       "0     2016-02-01   24.117500   24.177500   23.850000   24.107500   22.334911   \n",
       "1     2016-02-02   23.855000   24.010000   23.570000   23.620001   21.883259   \n",
       "2     2016-02-03   23.750000   24.209999   23.520000   24.087500   22.316381   \n",
       "3     2016-02-04   23.965000   24.332500   23.797501   24.150000   22.495693   \n",
       "4     2016-02-05   24.129999   24.230000   23.422501   23.504999   21.894878   \n",
       "...          ...         ...         ...         ...         ...         ...   \n",
       "1254  2021-01-25  143.070007  145.089996  136.539993  142.919998  142.919998   \n",
       "1255  2021-01-26  143.600006  144.300003  141.369995  143.160004  143.160004   \n",
       "1256  2021-01-27  143.429993  144.300003  140.410004  142.059998  142.059998   \n",
       "1257  2021-01-28  139.520004  141.990005  136.699997  137.089996  137.089996   \n",
       "1258  2021-01-29  135.830002  136.740005  130.210007  131.960007  131.960007   \n",
       "\n",
       "         Volume  \n",
       "0     163774000  \n",
       "1     149428800  \n",
       "2     183857200  \n",
       "3     185886800  \n",
       "4     185672400  \n",
       "...         ...  \n",
       "1254  157611700  \n",
       "1255   98390600  \n",
       "1256  140843800  \n",
       "1257  142621100  \n",
       "1258  177180600  \n",
       "\n",
       "[1259 rows x 7 columns]"
      ]
     },
     "execution_count": 39,
     "metadata": {},
     "output_type": "execute_result"
    }
   ],
   "source": [
    "df = pd.read_csv('aapl.csv')\n",
    "df.dropna()\n",
    "len(df)\n",
    "df\n"
   ]
  },
  {
   "cell_type": "code",
   "execution_count": 40,
   "metadata": {},
   "outputs": [],
   "source": [
    "code_list=[]\n",
    "for i in range(0,len(df)):\n",
    "    code_list.append('aapl')\n",
    "df2=pd.DataFrame(code_list,columns=['Code'])\n",
    "df2 = pd.concat([df2, df], axis=1)\n",
    "df=df2"
   ]
  },
  {
   "cell_type": "code",
   "execution_count": 41,
   "metadata": {},
   "outputs": [],
   "source": [
    "dataset_train=df.iloc[0:int(0.8*len(df)),:]\n",
    "dataset_test=df.iloc[int(0.8*len(df)):,:]"
   ]
  },
  {
   "cell_type": "code",
   "execution_count": 42,
   "metadata": {},
   "outputs": [],
   "source": [
    "training_set=df.iloc[:,4:5].values"
   ]
  },
  {
   "cell_type": "code",
   "execution_count": 43,
   "metadata": {},
   "outputs": [],
   "source": [
    "from sklearn.preprocessing import MinMaxScaler\n",
    "sc=MinMaxScaler(feature_range=(0,1))#Scaled values btween 0,1\n",
    "training_set_scaled=sc.fit_transform(training_set)"
   ]
  },
  {
   "cell_type": "code",
   "execution_count": 51,
   "metadata": {},
   "outputs": [],
   "source": [
    "X_train=[]#memory with 30 days from day i\n",
    "y_train=[]#day i\n",
    "for i in range(30,len(training_set_scaled)):\n",
    "    X_train.append(training_set_scaled[i-30:i,0])\n",
    "    y_train.append(training_set_scaled[i,0])\n",
    "        #Convert list to numpy arrays\n",
    "X_train=np.array(X_train)\n",
    "y_train=np.array(y_train)\n",
    "X_forecast=np.array(X_train[-1,1:])\n",
    "X_forecast=np.append(X_forecast,y_train[-1])\n",
    "        #Reshaping: Adding 3rd dimension\n",
    "X_train=np.reshape(X_train, (X_train.shape[0],X_train.shape[1],1))#.shape 0=row,1=col\n",
    "X_forecast=np.reshape(X_forecast, (1,X_forecast.shape[0],1))\n",
    "        #For X_train=np.reshape(no. of rows/samples, timesteps, no. of cols/features)\n",
    "        "
   ]
  },
  {
   "cell_type": "code",
   "execution_count": 52,
   "metadata": {},
   "outputs": [],
   "source": [
    "from keras.models import Sequential\n",
    "from keras.layers import Dense\n",
    "from keras.layers import Dropout\n",
    "from keras.layers import LSTM\n",
    "        "
   ]
  },
  {
   "cell_type": "code",
   "execution_count": 53,
   "metadata": {},
   "outputs": [
    {
     "name": "stdout",
     "output_type": "stream",
     "text": [
      "Epoch 1/25\n",
      "39/39 [==============================] - 5s 133ms/step - loss: 0.0185\n",
      "Epoch 2/25\n",
      "39/39 [==============================] - 5s 135ms/step - loss: 0.0022\n",
      "Epoch 3/25\n",
      "39/39 [==============================] - 5s 136ms/step - loss: 0.0018\n",
      "Epoch 4/25\n",
      "39/39 [==============================] - 5s 134ms/step - loss: 0.0018\n",
      "Epoch 5/25\n",
      "39/39 [==============================] - 5s 133ms/step - loss: 0.0022\n",
      "Epoch 6/25\n",
      "39/39 [==============================] - 5s 133ms/step - loss: 0.0017\n",
      "Epoch 7/25\n",
      "39/39 [==============================] - 5s 135ms/step - loss: 0.0017\n",
      "Epoch 8/25\n",
      "39/39 [==============================] - 5s 134ms/step - loss: 0.0018\n",
      "Epoch 9/25\n",
      "39/39 [==============================] - 6s 144ms/step - loss: 0.0016\n",
      "Epoch 10/25\n",
      "39/39 [==============================] - 5s 137ms/step - loss: 0.0014\n",
      "Epoch 11/25\n",
      "39/39 [==============================] - 6s 141ms/step - loss: 0.0016\n",
      "Epoch 12/25\n",
      "39/39 [==============================] - 6s 153ms/step - loss: 0.0017\n",
      "Epoch 13/25\n",
      "39/39 [==============================] - 5s 133ms/step - loss: 0.0014\n",
      "Epoch 14/25\n",
      "39/39 [==============================] - 5s 136ms/step - loss: 0.0013\n",
      "Epoch 15/25\n",
      "39/39 [==============================] - 5s 134ms/step - loss: 0.0013\n",
      "Epoch 16/25\n",
      "39/39 [==============================] - 5s 135ms/step - loss: 0.0011\n",
      "Epoch 17/25\n",
      "39/39 [==============================] - 5s 135ms/step - loss: 0.0012\n",
      "Epoch 18/25\n",
      "39/39 [==============================] - 6s 148ms/step - loss: 0.0013\n",
      "Epoch 19/25\n",
      "39/39 [==============================] - 5s 140ms/step - loss: 0.0013\n",
      "Epoch 20/25\n",
      "39/39 [==============================] - 6s 145ms/step - loss: 0.0014\n",
      "Epoch 21/25\n",
      "39/39 [==============================] - 6s 143ms/step - loss: 0.0013\n",
      "Epoch 22/25\n",
      "39/39 [==============================] - 5s 133ms/step - loss: 0.0013\n",
      "Epoch 23/25\n",
      "39/39 [==============================] - 5s 134ms/step - loss: 9.5153e-04\n",
      "Epoch 24/25\n",
      "39/39 [==============================] - 5s 136ms/step - loss: 0.0010\n",
      "Epoch 25/25\n",
      "39/39 [==============================] - 5s 138ms/step - loss: 0.0011\n"
     ]
    },
    {
     "data": {
      "text/plain": [
       "<tensorflow.python.keras.callbacks.History at 0x7f5056d866a0>"
      ]
     },
     "execution_count": 53,
     "metadata": {},
     "output_type": "execute_result"
    }
   ],
   "source": [
    "\n",
    "        regressor=Sequential()\n",
    "        \n",
    "        #Add first LSTM layer\n",
    "        regressor.add(LSTM(units=50,return_sequences=True,input_shape=(X_train.shape[1],1)))\n",
    "        #units=no. of neurons in layer\n",
    "        #input_shape=(timesteps,no. of cols/features)\n",
    "        #return_seq=True for sending recc memory. For last layer, retrun_seq=False since end of the line\n",
    "        regressor.add(Dropout(0.1))\n",
    "        \n",
    "        #Add 2nd LSTM layer\n",
    "        regressor.add(LSTM(units=50,return_sequences=True))\n",
    "        regressor.add(Dropout(0.1))\n",
    "        \n",
    "        #Add 3rd LSTM layer\n",
    "        regressor.add(LSTM(units=50,return_sequences=True))\n",
    "        regressor.add(Dropout(0.1))\n",
    "        \n",
    "        #Add 4th LSTM layer\n",
    "        regressor.add(LSTM(units=50,return_sequences=False))\n",
    "        regressor.add(Dropout(0.1))\n",
    "        \n",
    "        #Add o/p layer\n",
    "        regressor.add(Dense(units=1))\n",
    "        \n",
    "        #Compile\n",
    "        regressor.compile(optimizer='adam',loss='mean_squared_error')\n",
    "        \n",
    "        #Training\n",
    "        regressor.fit(X_train,y_train,epochs=25,batch_size=32 )\n",
    "        #For lstm, batch_size=power of 2"
   ]
  },
  {
   "cell_type": "code",
   "execution_count": 54,
   "metadata": {},
   "outputs": [
    {
     "name": "stdout",
     "output_type": "stream",
     "text": [
      "\n",
      "##############################################################################\n",
      "Tomorrow's  aapl  Closing Price Prediction by LSTM:  131.60791\n",
      "LSTM RMSE: 5.2075404901261315\n",
      "##############################################################################\n",
      "\n"
     ]
    },
    {
     "data": {
      "image/png": "[encoded data removed]",
      "text/plain": [
       "<Figure size 468x312 with 1 Axes>"
      ]
     },
     "metadata": {},
     "output_type": "display_data"
    }
   ],
   "source": [
    "\n",
    "        import math, random\n",
    "        from sklearn.metrics import mean_squared_error\n",
    "        import matplotlib.pyplot as plt\n",
    "        plt.style.use('ggplot')\n",
    "\n",
    "        \n",
    "        #Testing\n",
    "        ###dataset_test=pd.read_csv('Google_Stock_Price_Test.csv')\n",
    "        real_stock_price=dataset_test.iloc[:,4:5].values\n",
    "        \n",
    "        #To predict, we need stock prices of 7 days before the test set\n",
    "        #So combine train and test set to get the entire data set\n",
    "        dataset_total=pd.concat((dataset_train['Close'],dataset_test['Close']),axis=0) \n",
    "        testing_set=dataset_total[ len(dataset_total) -len(dataset_test) -30: ].values\n",
    "        testing_set=testing_set.reshape(-1,1)\n",
    "        #-1=till last row, (-1,1)=>(80,1). otherwise only (80,0)\n",
    "        \n",
    "        #Feature scaling\n",
    "        testing_set=sc.transform(testing_set)\n",
    "        \n",
    "        #Create data structure\n",
    "        X_test=[]\n",
    "        for i in range(30,len(testing_set)):\n",
    "            X_test.append(testing_set[i-30:i,0])\n",
    "            #Convert list to numpy arrays\n",
    "        X_test=np.array(X_test)\n",
    "        \n",
    "        #Reshaping: Adding 3rd dimension\n",
    "        X_test=np.reshape(X_test, (X_test.shape[0],X_test.shape[1],1))\n",
    "        \n",
    "        #Testing Prediction\n",
    "        predicted_stock_price=regressor.predict(X_test)\n",
    "        \n",
    "        #Getting original prices back from scaled values\n",
    "        predicted_stock_price=sc.inverse_transform(predicted_stock_price)\n",
    "        fig = plt.figure(figsize=(7.2,4.8),dpi=65)\n",
    "        plt.plot(real_stock_price,label='Actual Price')  \n",
    "        plt.plot(predicted_stock_price,label='Predicted Price')\n",
    "          \n",
    "        plt.legend(loc=4)\n",
    "        plt.savefig('LSTM.png')\n",
    "#         plt.close(fig)\n",
    "        \n",
    "        \n",
    "        error_lstm = math.sqrt(mean_squared_error(real_stock_price, predicted_stock_price))\n",
    "        \n",
    "        \n",
    "        #Forecasting Prediction\n",
    "        forecasted_stock_price=regressor.predict(X_forecast)\n",
    "        \n",
    "        #Getting original prices back from scaled values\n",
    "        forecasted_stock_price=sc.inverse_transform(forecasted_stock_price)\n",
    "        \n",
    "        lstm_pred=forecasted_stock_price[0,0]\n",
    "        print()\n",
    "        print(\"##############################################################################\")\n",
    "        print(\"Tomorrow's \",'aapl',\" Closing Price Prediction by LSTM: \",lstm_pred)\n",
    "        print(\"LSTM RMSE:\",error_lstm)\n",
    "        print(\"##############################################################################\")\n",
    "        print()\n",
    "        "
   ]
  },
  {
   "cell_type": "code",
   "execution_count": 50,
   "metadata": {},
   "outputs": [
    {
     "data": {
      "text/plain": [
       "134.9094"
      ]
     },
     "execution_count": 50,
     "metadata": {},
     "output_type": "execute_result"
    }
   ],
   "source": [
    "forecasted_stock_price[0,0]"
   ]
  },
  {
   "cell_type": "code",
   "execution_count": null,
   "metadata": {},
   "outputs": [],
   "source": []
  }
 ],
 "metadata": {
  "kernelspec": {
   "display_name": "Python 3",
   "language": "python",
   "name": "python3"
  },
  "language_info": {
   "codemirror_mode": {
    "name": "ipython",
    "version": 3
   },
   "file_extension": ".py",
   "mimetype": "text/x-python",
   "name": "python",
   "nbconvert_exporter": "python",
   "pygments_lexer": "ipython3",
   "version": "3.8.5"
  }
 },
 "nbformat": 4,
 "nbformat_minor": 4
}
