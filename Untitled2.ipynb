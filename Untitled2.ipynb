{
 "cells": [
  {
   "cell_type": "code",
   "execution_count": null,
   "metadata": {},
   "outputs": [],
   "source": [
    "import pandas as pd\n",
    "import numpy as np\n",
    "import yfinance as yf\n",
    "from datetime import datetime\n",
    "import datetime as dt"
   ]
  },
  {
   "cell_type": "code",
   "execution_count": null,
   "metadata": {},
   "outputs": [],
   "source": [
    "end = datetime.now()\n",
    "start = datetime(end.year-5,end.month,end.day)\n",
    "data = yf.download('aapl', start=start, end=end)\n",
    "df = pd.DataFrame(data=data)\n",
    "df.to_csv(''+'aapl'+'.csv')    "
   ]
  },
  {
   "cell_type": "code",
   "execution_count": null,
   "metadata": {},
   "outputs": [],
   "source": [
    "df = pd.read_csv('aapl.csv')\n",
    "df.dropna()\n",
    "len(df)\n",
    "df\n"
   ]
  },
  {
   "cell_type": "code",
   "execution_count": 4,
   "metadata": {},
   "outputs": [],
   "source": [
    "code_list=[]\n",
    "for i in range(0,len(df)):\n",
    "    code_list.append('aapl')\n",
    "df2=pd.DataFrame(code_list,columns=['Code'])\n",
    "df2 = pd.concat([df2, df], axis=1)\n",
    "df=df2"
   ]
  },
  {
   "cell_type": "code",
   "execution_count": 5,
   "metadata": {},
   "outputs": [],
   "source": [
    "dataset_train=df.iloc[0:int(0.8*len(df)),:]\n",
    "dataset_test=df.iloc[int(0.8*len(df)):,:]"
   ]
  },
  {
   "cell_type": "code",
   "execution_count": 6,
   "metadata": {},
   "outputs": [],
   "source": [
    "training_set=df.iloc[:,4:5].values"
   ]
  },
  {
   "cell_type": "code",
   "execution_count": 7,
   "metadata": {},
   "outputs": [],
   "source": [
    "from sklearn.preprocessing import MinMaxScaler\n",
    "sc=MinMaxScaler(feature_range=(0,1))#Scaled values btween 0,1\n",
    "training_set_scaled=sc.fit_transform(training_set)"
   ]
  },
  {
   "cell_type": "code",
   "execution_count": 8,
   "metadata": {},
   "outputs": [],
   "source": [
    "X_train=[]#memory with 30 days from day i\n",
    "y_train=[]#day i\n",
    "for i in range(30,len(training_set_scaled)):\n",
    "    X_train.append(training_set_scaled[i-30:i,0])\n",
    "    y_train.append(training_set_scaled[i,0])\n",
    "        #Convert list to numpy arrays\n",
    "X_train=np.array(X_train)\n",
    "y_train=np.array(y_train)\n",
    "X_forecast=np.array(X_train[-1,1:])\n",
    "X_forecast=np.append(X_forecast,y_train[-1])\n",
    "        #Reshaping: Adding 3rd dimension\n",
    "X_train=np.reshape(X_train, (X_train.shape[0],X_train.shape[1],1))#.shape 0=row,1=col\n",
    "X_forecast=np.reshape(X_forecast, (1,X_forecast.shape[0],1))\n",
    "        #For X_train=np.reshape(no. of rows/samples, timesteps, no. of cols/features)\n",
    "        "
   ]
  },
  {
   "cell_type": "code",
   "execution_count": 9,
   "metadata": {},
   "outputs": [],
   "source": [
    "from keras.models import Sequential\n",
    "from keras.layers import Dense\n",
    "from keras.layers import Dropout\n",
    "from keras.layers import LSTM\n",
    "        "
   ]
  },
  {
   "cell_type": "code",
   "execution_count": 10,
   "metadata": {
    "scrolled": true
   },
   "outputs": [
    {
     "name": "stdout",
     "output_type": "stream",
     "text": [
      "Epoch 1/40\n",
      "82/82 [==============================] - 9s 111ms/step - loss: 0.0079\n",
      "Epoch 2/40\n",
      "82/82 [==============================] - 9s 112ms/step - loss: 0.0027\n",
      "Epoch 3/40\n",
      "82/82 [==============================] - 9s 114ms/step - loss: 0.0027\n",
      "Epoch 4/40\n",
      "82/82 [==============================] - 9s 111ms/step - loss: 0.0023\n",
      "Epoch 5/40\n",
      "82/82 [==============================] - 9s 112ms/step - loss: 0.0022\n",
      "Epoch 6/40\n",
      "82/82 [==============================] - 9s 113ms/step - loss: 0.0019\n",
      "Epoch 7/40\n",
      "82/82 [==============================] - 9s 113ms/step - loss: 0.0017\n",
      "Epoch 8/40\n",
      "82/82 [==============================] - 10s 121ms/step - loss: 0.0016\n",
      "Epoch 9/40\n",
      "82/82 [==============================] - 10s 119ms/step - loss: 0.0018\n",
      "Epoch 10/40\n",
      "82/82 [==============================] - 9s 114ms/step - loss: 0.0015\n",
      "Epoch 11/40\n",
      "82/82 [==============================] - 9s 113ms/step - loss: 0.0017\n",
      "Epoch 12/40\n",
      "82/82 [==============================] - 9s 112ms/step - loss: 0.0014\n",
      "Epoch 13/40\n",
      "82/82 [==============================] - 9s 111ms/step - loss: 0.0011\n",
      "Epoch 14/40\n",
      "82/82 [==============================] - 9s 112ms/step - loss: 0.0014\n",
      "Epoch 15/40\n",
      "82/82 [==============================] - 9s 112ms/step - loss: 0.0011\n",
      "Epoch 16/40\n",
      "82/82 [==============================] - 10s 117ms/step - loss: 0.0013\n",
      "Epoch 17/40\n",
      "82/82 [==============================] - 9s 112ms/step - loss: 0.0015\n",
      "Epoch 18/40\n",
      "82/82 [==============================] - 9s 115ms/step - loss: 0.0014\n",
      "Epoch 19/40\n",
      "82/82 [==============================] - 9s 112ms/step - loss: 0.0018\n",
      "Epoch 20/40\n",
      "82/82 [==============================] - 9s 112ms/step - loss: 9.7986e-04\n",
      "Epoch 21/40\n",
      "82/82 [==============================] - 9s 113ms/step - loss: 9.9935e-04\n",
      "Epoch 22/40\n",
      "82/82 [==============================] - 9s 113ms/step - loss: 9.4413e-04\n",
      "Epoch 23/40\n",
      "82/82 [==============================] - 9s 113ms/step - loss: 9.1693e-04\n",
      "Epoch 24/40\n",
      "82/82 [==============================] - 9s 112ms/step - loss: 0.0013\n",
      "Epoch 25/40\n",
      "82/82 [==============================] - 9s 112ms/step - loss: 0.0010\n",
      "Epoch 26/40\n",
      "82/82 [==============================] - 9s 113ms/step - loss: 0.0011\n",
      "Epoch 27/40\n",
      "82/82 [==============================] - 9s 113ms/step - loss: 0.0010\n",
      "Epoch 28/40\n",
      "82/82 [==============================] - 9s 113ms/step - loss: 9.8705e-04\n",
      "Epoch 29/40\n",
      "82/82 [==============================] - 9s 112ms/step - loss: 9.8266e-04\n",
      "Epoch 30/40\n",
      "82/82 [==============================] - 9s 113ms/step - loss: 8.4847e-04\n",
      "Epoch 31/40\n",
      "82/82 [==============================] - 9s 112ms/step - loss: 0.0010\n",
      "Epoch 32/40\n",
      "82/82 [==============================] - 9s 116ms/step - loss: 8.8131e-04\n",
      "Epoch 33/40\n",
      "82/82 [==============================] - 9s 114ms/step - loss: 8.6143e-04\n",
      "Epoch 34/40\n",
      "82/82 [==============================] - 9s 113ms/step - loss: 7.8512e-04\n",
      "Epoch 35/40\n",
      "82/82 [==============================] - 9s 113ms/step - loss: 8.8362e-04\n",
      "Epoch 36/40\n",
      "82/82 [==============================] - 9s 113ms/step - loss: 8.6598e-04\n",
      "Epoch 37/40\n",
      "82/82 [==============================] - 10s 117ms/step - loss: 8.0412e-04\n",
      "Epoch 38/40\n",
      "82/82 [==============================] - 9s 112ms/step - loss: 7.8276e-04\n",
      "Epoch 39/40\n",
      "82/82 [==============================] - 9s 112ms/step - loss: 0.0010\n",
      "Epoch 40/40\n",
      "82/82 [==============================] - 9s 115ms/step - loss: 7.7597e-04\n"
     ]
    },
    {
     "data": {
      "text/plain": [
       "<tensorflow.python.keras.callbacks.History at 0x7fdc38250340>"
      ]
     },
     "execution_count": 10,
     "metadata": {},
     "output_type": "execute_result"
    }
   ],
   "source": [
    "\n",
    "        regressor=Sequential()\n",
    "        \n",
    "        #Add first LSTM layer\n",
    "        regressor.add(LSTM(units=50,return_sequences=True,input_shape=(X_train.shape[1],1)))\n",
    "        #units=no. of neurons in layer\n",
    "        #input_shape=(timesteps,no. of cols/features)\n",
    "        #return_seq=True for sending recc memory. For last layer, retrun_seq=False since end of the line\n",
    "        regressor.add(Dropout(0.1))\n",
    "        \n",
    "        #Add 2nd LSTM layer\n",
    "        regressor.add(LSTM(units=50,return_sequences=True))\n",
    "        regressor.add(Dropout(0.1))\n",
    "        \n",
    "        #Add 3rd LSTM layer\n",
    "        regressor.add(LSTM(units=50,return_sequences=True))\n",
    "        regressor.add(Dropout(0.1))\n",
    "        \n",
    "        #Add 4th LSTM layer\n",
    "        regressor.add(LSTM(units=50,return_sequences=False))\n",
    "        regressor.add(Dropout(0.1))\n",
    "        \n",
    "        #Add o/p layer\n",
    "        regressor.add(Dense(units=1))\n",
    "        \n",
    "        #Compile\n",
    "        regressor.compile(optimizer='adam',loss='mean_squared_error')\n",
    "        \n",
    "        #Training\n",
    "        regressor.fit(X_train,y_train,epochs=40,batch_size=15 )\n",
    "        #For lstm, batch_size=power of 2"
   ]
  },
  {
   "cell_type": "code",
   "execution_count": null,
   "metadata": {},
   "outputs": [],
   "source": [
    "\n",
    "        import math, random\n",
    "        from sklearn.metrics import mean_squared_error\n",
    "        import matplotlib.pyplot as plt\n",
    "        plt.style.use('ggplot')\n",
    "\n",
    "        \n",
    "        #Testing\n",
    "        ###dataset_test=pd.read_csv('Google_Stock_Price_Test.csv')\n",
    "        real_stock_price=dataset_test.iloc[:,4:5].values\n",
    "        \n",
    "        #To predict, we need stock prices of 7 days before the test set\n",
    "        #So combine train and test set to get the entire data set\n",
    "        dataset_total=pd.concat((dataset_train['Close'],dataset_test['Close']),axis=0) \n",
    "        testing_set=dataset_total[ len(dataset_total) -len(dataset_test) -30: ].values\n",
    "        testing_set=testing_set.reshape(-1,1)\n",
    "        #-1=till last row, (-1,1)=>(80,1). otherwise only (80,0)\n",
    "        \n",
    "        #Feature scaling\n",
    "        testing_set=sc.transform(testing_set)\n",
    "        \n",
    "        #Create data structure\n",
    "        X_test=[]\n",
    "        for i in range(30,len(testing_set)):\n",
    "            X_test.append(testing_set[i-30:i,0])\n",
    "            #Convert list to numpy arrays\n",
    "        X_test=np.array(X_test)\n",
    "        \n",
    "        #Reshaping: Adding 3rd dimension\n",
    "        X_test=np.reshape(X_test, (X_test.shape[0],X_test.shape[1],1))\n",
    "        \n",
    "        #Testing Prediction\n",
    "        predicted_stock_price=regressor.predict(X_test)\n",
    "        \n",
    "        #Getting original prices back from scaled values\n",
    "        predicted_stock_price=sc.inverse_transform(predicted_stock_price)\n",
    "        fig = plt.figure(figsize=(7.2,4.8),dpi=65)\n",
    "        plt.plot(real_stock_price,label='Actual Price')  \n",
    "        plt.plot(predicted_stock_price,label='Predicted Price')\n",
    "          \n",
    "        plt.legend(loc=4)\n",
    "        plt.savefig('LSTM.png')\n",
    "#         plt.close(fig)\n",
    "        \n",
    "        \n",
    "        error_lstm = math.sqrt(mean_squared_error(real_stock_price, predicted_stock_price))\n",
    "        \n",
    "        \n",
    "        #Forecasting Prediction\n",
    "        forecasted_stock_price=regressor.predict(X_forecast)\n",
    "        \n",
    "        #Getting original prices back from scaled values\n",
    "        forecasted_stock_price=sc.inverse_transform(forecasted_stock_price)\n",
    "        \n",
    "        lstm_pred=forecasted_stock_price[0,0]\n",
    "        print()\n",
    "        print(\"##############################################################################\")\n",
    "        print(\"Tomorrow's \",'aapl',\" Closing Price Prediction by LSTM: \",lstm_pred)\n",
    "        print(\"LSTM RMSE:\",error_lstm)\n",
    "        print(\"##############################################################################\")\n",
    "        print()\n",
    "        "
   ]
  },
  {
   "cell_type": "code",
   "execution_count": null,
   "metadata": {},
   "outputs": [],
   "source": [
    "forecasted_stock_price[0,0]"
   ]
  },
  {
   "cell_type": "code",
   "execution_count": null,
   "metadata": {},
   "outputs": [],
   "source": []
  }
 ],
 "metadata": {
  "kernelspec": {
   "display_name": "Python 3",
   "language": "python",
   "name": "python3"
  },
  "language_info": {
   "codemirror_mode": {
    "name": "ipython",
    "version": 3
   },
   "file_extension": ".py",
   "mimetype": "text/x-python",
   "name": "python",
   "nbconvert_exporter": "python",
   "pygments_lexer": "ipython3",
   "version": "3.8.5"
  }
 },
 "nbformat": 4,
 "nbformat_minor": 4
}
