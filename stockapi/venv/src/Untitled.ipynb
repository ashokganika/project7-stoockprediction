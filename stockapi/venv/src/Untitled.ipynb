{
 "cells": [
  {
   "cell_type": "code",
   "execution_count": 2,
   "metadata": {},
   "outputs": [
    {
     "name": "stdout",
     "output_type": "stream",
     "text": [
      "yfinance.Ticker object <MSFT>\n"
     ]
    }
   ],
   "source": [
    "import yfinance as yf\n",
    "\n",
    "msft = yf.Ticker(\"MSFT\")\n",
    "print(msft)"
   ]
  },
  {
   "cell_type": "code",
   "execution_count": 3,
   "metadata": {},
   "outputs": [
    {
     "ename": "TypeError",
     "evalue": "'dict' object is not callable",
     "output_type": "error",
     "traceback": [
      "\u001b[0;31m---------------------------------------------------------------------------\u001b[0m",
      "\u001b[0;31mTypeError\u001b[0m                                 Traceback (most recent call last)",
      "\u001b[0;32m<ipython-input-3-589f1881add6>\u001b[0m in \u001b[0;36m<module>\u001b[0;34m\u001b[0m\n\u001b[0;32m----> 1\u001b[0;31m \u001b[0mmsft\u001b[0m\u001b[0;34m.\u001b[0m\u001b[0minfo\u001b[0m\u001b[0;34m(\u001b[0m\u001b[0;34m)\u001b[0m\u001b[0;34m\u001b[0m\u001b[0;34m\u001b[0m\u001b[0m\n\u001b[0m",
      "\u001b[0;31mTypeError\u001b[0m: 'dict' object is not callable"
     ]
    }
   ],
   "source": [
    "msft.info()"
   ]
  },
  {
   "cell_type": "code",
   "execution_count": 5,
   "metadata": {},
   "outputs": [
    {
     "name": "stdout",
     "output_type": "stream",
     "text": [
      "[*********************100%***********************]  8 of 8 completed\n"
     ]
    },
    {
     "data": {
      "text/html": [
       "<div>\n",
       "<style scoped>\n",
       "    .dataframe tbody tr th:only-of-type {\n",
       "        vertical-align: middle;\n",
       "    }\n",
       "\n",
       "    .dataframe tbody tr th {\n",
       "        vertical-align: top;\n",
       "    }\n",
       "\n",
       "    .dataframe thead tr th {\n",
       "        text-align: left;\n",
       "    }\n",
       "\n",
       "    .dataframe thead tr:last-of-type th {\n",
       "        text-align: right;\n",
       "    }\n",
       "</style>\n",
       "<table border=\"1\" class=\"dataframe\">\n",
       "  <thead>\n",
       "    <tr>\n",
       "      <th></th>\n",
       "      <th colspan=\"8\" halign=\"left\">Adj Close</th>\n",
       "      <th colspan=\"2\" halign=\"left\">Close</th>\n",
       "      <th>...</th>\n",
       "      <th colspan=\"2\" halign=\"left\">Open</th>\n",
       "      <th colspan=\"8\" halign=\"left\">Volume</th>\n",
       "    </tr>\n",
       "    <tr>\n",
       "      <th></th>\n",
       "      <th>AAPL</th>\n",
       "      <th>AMZN</th>\n",
       "      <th>FB</th>\n",
       "      <th>GOOGL</th>\n",
       "      <th>MSFT</th>\n",
       "      <th>NFLX</th>\n",
       "      <th>TSLA</th>\n",
       "      <th>WMT</th>\n",
       "      <th>AAPL</th>\n",
       "      <th>AMZN</th>\n",
       "      <th>...</th>\n",
       "      <th>TSLA</th>\n",
       "      <th>WMT</th>\n",
       "      <th>AAPL</th>\n",
       "      <th>AMZN</th>\n",
       "      <th>FB</th>\n",
       "      <th>GOOGL</th>\n",
       "      <th>MSFT</th>\n",
       "      <th>NFLX</th>\n",
       "      <th>TSLA</th>\n",
       "      <th>WMT</th>\n",
       "    </tr>\n",
       "    <tr>\n",
       "      <th>Date</th>\n",
       "      <th></th>\n",
       "      <th></th>\n",
       "      <th></th>\n",
       "      <th></th>\n",
       "      <th></th>\n",
       "      <th></th>\n",
       "      <th></th>\n",
       "      <th></th>\n",
       "      <th></th>\n",
       "      <th></th>\n",
       "      <th></th>\n",
       "      <th></th>\n",
       "      <th></th>\n",
       "      <th></th>\n",
       "      <th></th>\n",
       "      <th></th>\n",
       "      <th></th>\n",
       "      <th></th>\n",
       "      <th></th>\n",
       "      <th></th>\n",
       "      <th></th>\n",
       "    </tr>\n",
       "  </thead>\n",
       "  <tbody>\n",
       "    <tr>\n",
       "      <th>2021-04-09</th>\n",
       "      <td>133.000000</td>\n",
       "      <td>3372.199951</td>\n",
       "      <td>312.459991</td>\n",
       "      <td>2270.669922</td>\n",
       "      <td>255.850006</td>\n",
       "      <td>555.309998</td>\n",
       "      <td>677.02002</td>\n",
       "      <td>139.779999</td>\n",
       "      <td>133.000000</td>\n",
       "      <td>3372.199951</td>\n",
       "      <td>...</td>\n",
       "      <td>677.77002</td>\n",
       "      <td>139.630005</td>\n",
       "      <td>106513800</td>\n",
       "      <td>4334600</td>\n",
       "      <td>15983000</td>\n",
       "      <td>1304400</td>\n",
       "      <td>24315700</td>\n",
       "      <td>2886600</td>\n",
       "      <td>21402600</td>\n",
       "      <td>6888300</td>\n",
       "    </tr>\n",
       "    <tr>\n",
       "      <th>2021-04-09</th>\n",
       "      <td>132.994995</td>\n",
       "      <td>3372.199951</td>\n",
       "      <td>312.459991</td>\n",
       "      <td>2270.669922</td>\n",
       "      <td>255.850006</td>\n",
       "      <td>555.309998</td>\n",
       "      <td>677.02002</td>\n",
       "      <td>139.779999</td>\n",
       "      <td>132.994995</td>\n",
       "      <td>3372.199951</td>\n",
       "      <td>...</td>\n",
       "      <td>677.77002</td>\n",
       "      <td>139.630005</td>\n",
       "      <td>101979450</td>\n",
       "      <td>4341467</td>\n",
       "      <td>15988568</td>\n",
       "      <td>1307265</td>\n",
       "      <td>22917371</td>\n",
       "      <td>2894034</td>\n",
       "      <td>21040625</td>\n",
       "      <td>6509630</td>\n",
       "    </tr>\n",
       "  </tbody>\n",
       "</table>\n",
       "<p>2 rows × 48 columns</p>\n",
       "</div>"
      ],
      "text/plain": [
       "             Adj Close                                                    \\\n",
       "                  AAPL         AMZN          FB        GOOGL        MSFT   \n",
       "Date                                                                       \n",
       "2021-04-09  133.000000  3372.199951  312.459991  2270.669922  255.850006   \n",
       "2021-04-09  132.994995  3372.199951  312.459991  2270.669922  255.850006   \n",
       "\n",
       "                                                    Close               ...  \\\n",
       "                  NFLX       TSLA         WMT        AAPL         AMZN  ...   \n",
       "Date                                                                    ...   \n",
       "2021-04-09  555.309998  677.02002  139.779999  133.000000  3372.199951  ...   \n",
       "2021-04-09  555.309998  677.02002  139.779999  132.994995  3372.199951  ...   \n",
       "\n",
       "                 Open                 Volume                              \\\n",
       "                 TSLA         WMT       AAPL     AMZN        FB    GOOGL   \n",
       "Date                                                                       \n",
       "2021-04-09  677.77002  139.630005  106513800  4334600  15983000  1304400   \n",
       "2021-04-09  677.77002  139.630005  101979450  4341467  15988568  1307265   \n",
       "\n",
       "                                                  \n",
       "                MSFT     NFLX      TSLA      WMT  \n",
       "Date                                              \n",
       "2021-04-09  24315700  2886600  21402600  6888300  \n",
       "2021-04-09  22917371  2894034  21040625  6509630  \n",
       "\n",
       "[2 rows x 48 columns]"
      ]
     },
     "execution_count": 5,
     "metadata": {},
     "output_type": "execute_result"
    }
   ],
   "source": [
    "import yfinance as yf\n",
    "data = yf.download(\"AAPL MSFT TSLA AMZN WMT FB GOOGL NFLX\", start=\"2021-04-10\")\n",
    "data"
   ]
  },
  {
   "cell_type": "code",
   "execution_count": null,
   "metadata": {},
   "outputs": [],
   "source": [
    "import yfinance as yf\n",
    "data = yf.download(\"NFLX\", start=\"2021-04-10\")\n",
    "data"
   ]
  },
  {
   "cell_type": "code",
   "execution_count": null,
   "metadata": {},
   "outputs": [],
   "source": []
  }
 ],
 "metadata": {
  "kernelspec": {
   "display_name": "Python 3",
   "language": "python",
   "name": "python3"
  },
  "language_info": {
   "codemirror_mode": {
    "name": "ipython",
    "version": 3
   },
   "file_extension": ".py",
   "mimetype": "text/x-python",
   "name": "python",
   "nbconvert_exporter": "python",
   "pygments_lexer": "ipython3",
   "version": "3.8.5"
  }
 },
 "nbformat": 4,
 "nbformat_minor": 4
}
